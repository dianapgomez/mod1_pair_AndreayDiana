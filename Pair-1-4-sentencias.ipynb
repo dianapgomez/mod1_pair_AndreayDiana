{
 "cells": [
  {
   "cell_type": "markdown",
   "metadata": {},
   "source": [
    "# SENTENCIAS DE CONTROL\n"
   ]
  },
  {
   "cell_type": "markdown",
   "metadata": {},
   "source": [
    "#Ejercicios if else"
   ]
  },
  {
   "cell_type": "markdown",
   "metadata": {},
   "source": [
    "Verificar si un número es positivo, negativo o cero\n",
    "\n",
    "Descripción: Dado un número, verifica si es positivo, negativo o cero."
   ]
  },
  {
   "cell_type": "code",
   "execution_count": 8,
   "metadata": {},
   "outputs": [
    {
     "name": "stdout",
     "output_type": "stream",
     "text": [
      "Este número es positivo\n"
     ]
    }
   ],
   "source": [
    "var1 = 33\n",
    "\n",
    "if var1 == 0:\n",
    "    print(\"Este número es igual a 0\")\n",
    "\n",
    "if var1 > 0:\n",
    "    print(\"Este número es positivo\")\n",
    "if var1 < 0:\n",
    "    print(\"Este número es negativo\")"
   ]
  },
  {
   "cell_type": "markdown",
   "metadata": {},
   "source": [
    "Verificar si un número es par o impar\n",
    "\n",
    "Descripción: Dado un número, verifica si es par o impar."
   ]
  },
  {
   "cell_type": "code",
   "execution_count": 14,
   "metadata": {},
   "outputs": [
    {
     "name": "stdout",
     "output_type": "stream",
     "text": [
      "este número es impar\n"
     ]
    }
   ],
   "source": [
    "var2 = 25\n",
    "\n",
    "if var2 % 2 == 0:\n",
    "    print(\"este número es par\")\n",
    "else:\n",
    "    print(\"este número es impar\")\n"
   ]
  },
  {
   "cell_type": "markdown",
   "metadata": {},
   "source": [
    "Verificar si un estudiante aprobó o suspendió un examen\n",
    "\n",
    "Descripción: Dada la calificación de un estudiante en un examen, verifica si aprobó o suspendió (si la calificación es mayor o igual a 60 se considera aprobado)."
   ]
  },
  {
   "cell_type": "code",
   "execution_count": 20,
   "metadata": {},
   "outputs": [
    {
     "name": "stdout",
     "output_type": "stream",
     "text": [
      "ha aprobado\n"
     ]
    }
   ],
   "source": [
    "notas = {\"Pepito\": 55,\n",
    "         \"Marga\": 68,\n",
    "         \"Sergio\": 90}\n",
    "\n",
    "if notas[input(\"Escribe el nombre de un estudiante\")] >= 60:\n",
    "    print(\"ha aprobado\")\n",
    "else:\n",
    "    print(\"ha suspendido\")"
   ]
  },
  {
   "cell_type": "markdown",
   "metadata": {},
   "source": [
    "Calcular el máximo entre dos números\n",
    "\n",
    "Descripción: Dados dos números, encuentra el máximo entre ellos."
   ]
  },
  {
   "cell_type": "code",
   "execution_count": 27,
   "metadata": {},
   "outputs": [
    {
     "name": "stdout",
     "output_type": "stream",
     "text": [
      "89 es mayor\n"
     ]
    }
   ],
   "source": [
    "var3 = 56\n",
    "var4 = 89\n",
    "\n",
    "if var3 > var4:\n",
    "    print(f\"{var3} es mayor\")\n",
    "else:\n",
    "    print(f\"{var4} es mayor\")\n"
   ]
  },
  {
   "cell_type": "markdown",
   "metadata": {},
   "source": [
    "Verificar si una letra es una vocal o una consonante\n",
    "\n",
    "Descripción: Dada una letra, verifica si es una vocal o una consonante."
   ]
  },
  {
   "cell_type": "code",
   "execution_count": 31,
   "metadata": {},
   "outputs": [
    {
     "name": "stdout",
     "output_type": "stream",
     "text": [
      "o es una vocal\n"
     ]
    }
   ],
   "source": [
    "vocales = \"a\", \"e\", \"i\", \"o\", \"u\"\n",
    "letra =input(\"dime una letra\")\n",
    "if letra in vocales:\n",
    "    print(f\"{letra} es una vocal\")\n",
    "else:\n",
    "    print(f\"{letra} es una consonante\")"
   ]
  },
  {
   "cell_type": "markdown",
   "metadata": {},
   "source": [
    "Calcular el descuento en una compra según el monto total\n",
    "\n",
    "Descripción: Dado el monto total de una compra, calcula el descuento aplicado según las siguientes condiciones: si el monto es mayor o igual a $100, aplica un descuento del 10%; de lo contrario, no aplica ningún descuento."
   ]
  },
  {
   "cell_type": "code",
   "execution_count": 37,
   "metadata": {},
   "outputs": [
    {
     "name": "stdout",
     "output_type": "stream",
     "text": [
      "Tienes un descuento del 10%, tu compra se queda en: 135.0 €\n"
     ]
    }
   ],
   "source": [
    "compra = int(input(\"¿Cuánto te ha costado la compra\"))\n",
    "\n",
    "if compra >= 100:\n",
    "    print(\"Tienes un descuento del 10%, tu compra se queda en:\", compra*0.9, \"€\")\n",
    "else:\n",
    "    print(\"No recibes descuentos\")"
   ]
  },
  {
   "cell_type": "markdown",
   "metadata": {},
   "source": [
    "Verificar si un año es bisiesto o no\n",
    "\n",
    "Descripción: Dado un año, verifica si es bisiesto o no (un año es bisiesto si es divisible entre 4, excepto aquellos divisibles entre 100 pero no entre 400)."
   ]
  },
  {
   "cell_type": "code",
   "execution_count": 44,
   "metadata": {},
   "outputs": [
    {
     "name": "stdout",
     "output_type": "stream",
     "text": [
      "no bisisesto\n"
     ]
    }
   ],
   "source": [
    "año =int(input(\"añade un año\"))\n",
    "\n",
    "if año%400 == 0:\n",
    "    print(\"bisisesto1\")\n",
    "elif año%4 == 0:\n",
    "    print(\"bisiesto2\")\n",
    "else:\n",
    "    print(\"no bisisesto\")"
   ]
  },
  {
   "cell_type": "markdown",
   "metadata": {},
   "source": [
    "Asignar una categoría a una edad\n",
    "\n",
    "Descripción: Dada una edad, asigna una categoría según las siguientes condiciones: si la edad es menor de 18, la categoría es \"Menor de edad\"; si la edad está entre 18 y 64 (incluyendo ambos), la categoría es \"Adulto\"; de lo contrario, la categoría es \"Adulto mayor\"."
   ]
  },
  {
   "cell_type": "code",
   "execution_count": 49,
   "metadata": {},
   "outputs": [
    {
     "name": "stdout",
     "output_type": "stream",
     "text": [
      "Adulto\n"
     ]
    }
   ],
   "source": [
    "edad = 25\n",
    "\n",
    "# lo intentamos en unos días while edades.keys()\n",
    "\n",
    "if edad < 18:\n",
    "    print(\"Menor de edad\")\n",
    "elif edad > 18 or edad == 64:\n",
    "    print(\"Adulto\")\n",
    "else:\n",
    "    print(\"Adulto mayor\")"
   ]
  },
  {
   "cell_type": "markdown",
   "metadata": {},
   "source": [
    "\n",
    "Calcular la suma de los primeros 10 números naturales utilizando un bucle while\n",
    "\n",
    "Descripción: Utiliza un bucle while para calcular la suma de los primeros 10 números naturales (1 + 2 + 3 + ... + 10)."
   ]
  },
  {
   "cell_type": "code",
   "execution_count": 33,
   "metadata": {},
   "outputs": [
    {
     "name": "stdout",
     "output_type": "stream",
     "text": [
      "El resultado de la suma es 55\n"
     ]
    }
   ],
   "source": [
    "suma = 0\n",
    "numero = 1\n",
    "\n",
    "while numero <= 10:\n",
    "   suma = suma + numero\n",
    "   numero +=1 \n",
    "\n",
    "print(\"El resultado de la suma es\", suma)"
   ]
  },
  {
   "cell_type": "markdown",
   "metadata": {},
   "source": [
    "Juego de adivinanza utilizando un bucle while\n",
    "\n",
    "Descripción: Crea un juego de adivinanza en el que el jugador tiene que adivinar un número secreto (tendrá que ser entre el 0 y el 10). Utiliza un bucle while para permitir múltiples intentos hasta que el jugador adivine correctamente."
   ]
  },
  {
   "cell_type": "code",
   "execution_count": 35,
   "metadata": {},
   "outputs": [
    {
     "name": "stdout",
     "output_type": "stream",
     "text": [
      "No has acertado\n",
      "No has acertado\n",
      "Enhorabuena, has acertado\n"
     ]
    }
   ],
   "source": [
    "usuario = int(input(\"Dame un número del 0 al 10\"))\n",
    "\n",
    "numero = 5\n",
    "\n",
    "while usuario != 5:\n",
    "    print(\"No has acertado\")\n",
    "    usuario = int(input(\"Dame un número del 0 al 10\"))\n",
    "else:\n",
    "    print(\"Enhorabuena, has acertado\")\n",
    "\n"
   ]
  },
  {
   "cell_type": "markdown",
   "metadata": {},
   "source": [
    "Verificar si tres números forman un triángulo rectángulo\n",
    "\n",
    "Descripción: Dados tres números, verifica si forman un triángulo rectángulo (si se cumple el teorema de Pitágoras)."
   ]
  },
  {
   "cell_type": "code",
   "execution_count": 54,
   "metadata": {},
   "outputs": [
    {
     "name": "stdout",
     "output_type": "stream",
     "text": [
      "Es un triángulo rectándulo\n"
     ]
    }
   ],
   "source": [
    "#c2 = a2 + b2\n",
    "\n",
    "a = 1*1\n",
    "b = 2*2\n",
    "c = 3*3\n",
    "\n",
    "if c == a + b:\n",
    "    print(\"Es un triángulo rectándulo\")\n",
    "else:\n",
    "    print(\"No es un trángulo rectándulo\")\n"
   ]
  },
  {
   "cell_type": "markdown",
   "metadata": {},
   "source": [
    "Asignar una calificación a una puntuación\n",
    "\n",
    "Descripción: Dada una puntuación, asigna una calificación según las siguientes condiciones: si la puntuación es mayor o igual a 90, la calificación es \"A\"; si es mayor o igual a 80, la calificación es \"B\"; si es mayor o igual a 70, la calificación es \"C\"; si es mayor o igual a 60, la calificación es \"D\"; de lo contrario, la calificación es \"F\"."
   ]
  },
  {
   "cell_type": "code",
   "execution_count": 62,
   "metadata": {},
   "outputs": [
    {
     "name": "stdout",
     "output_type": "stream",
     "text": [
      "La calificación es A\n"
     ]
    }
   ],
   "source": [
    "nombre = {\"Marcos\": 90}\n",
    "Claudia = 55\n",
    "Susana = 97\n",
    "Cecilia = 77\n",
    "Ana = 62\n",
    "\n",
    "\n",
    "\n",
    "if nombre[\"Marcos\"] >= 90:\n",
    "    print(\"La calificación es A\")\n",
    "elif nombre[\"Marcos\"] >= 80:\n",
    "    print(\"La calificación es B\")\n",
    "elif nombre[\"Marcos\"] >= 70:\n",
    "    print(\"La calificación es C\")\n",
    "elif nombre[\"Marcos\"] >= 60:\n",
    "    print(\"La calificación es D\")\n",
    "else:\n",
    "    print(\"La calificación es F\")"
   ]
  },
  {
   "cell_type": "markdown",
   "metadata": {},
   "source": [
    "Calcular el índice de masa corporal (IMC) y categorizarlo\n",
    "\n",
    "Descripción: Dados el peso (en kg) y la altura (en metros) de una persona, calcula su IMC y categorízalo según las siguientes condiciones: si el IMC es menor a 18.5, es \"Bajo peso\"; si está entre 18.5 y 24.9 (inclusive), es \"Peso normal\"; si está entre 25 y 29.9 (inclusive), es \"Sobrepeso\"; de lo contrario, es \"Obesidad\"."
   ]
  },
  {
   "cell_type": "code",
   "execution_count": 74,
   "metadata": {},
   "outputs": [
    {
     "name": "stdout",
     "output_type": "stream",
     "text": [
      "El IMC es 50.12\n",
      "obesidad\n"
     ]
    }
   ],
   "source": [
    "peso = 150\n",
    "altura = 1.73\n",
    "IMC = round(peso / (altura*altura),2)\n",
    "print(\"El IMC es\", IMC)\n",
    "if IMC < 18.5:\n",
    "    print(\"bajo peso\")\n",
    "elif IMC == 18 or IMC <= 24.9:\n",
    "    print(\"peso normal\")\n",
    "elif IMC == 25 or IMC <=29.9:\n",
    "    print(\"sobrepeso\")\n",
    "else:\n",
    "    print(\"obesidad\")\n"
   ]
  },
  {
   "cell_type": "code",
   "execution_count": null,
   "metadata": {},
   "outputs": [],
   "source": []
  },
  {
   "cell_type": "markdown",
   "metadata": {},
   "source": [
    "c *= c "
   ]
  },
  {
   "cell_type": "markdown",
   "metadata": {},
   "source": []
  },
  {
   "cell_type": "markdown",
   "metadata": {},
   "source": [
    "\n",
    "Juego de adivinanza utilizando un bucle while\n",
    "\n",
    "Descripción: Crea un juego de adivinanza en el que el jugador tiene que adivinar un número secreto (tendrá que ser entre el 0 y el 10). Utiliza un bucle while para permitir múltiples intentos hasta que el jugador adivine correctamente."
   ]
  },
  {
   "cell_type": "code",
   "execution_count": null,
   "metadata": {},
   "outputs": [],
   "source": []
  },
  {
   "cell_type": "code",
   "execution_count": null,
   "metadata": {},
   "outputs": [],
   "source": []
  },
  {
   "cell_type": "code",
   "execution_count": 26,
   "metadata": {},
   "outputs": [
    {
     "name": "stdout",
     "output_type": "stream",
     "text": [
      "paga 5€\n"
     ]
    }
   ],
   "source": [
    "lista_clientes = {\"edad_cliente1\" : 9, \"edad_cliente\": 21, \"edad_cliente3\" : 3}\n",
    "\n",
    "\n",
    "if lista_clientes[\"edad_cliente1\"] < 4:\n",
    "    print(\"entra gratis\")\n",
    "elif lista_clientes[\"edad_cliente1\"] > 4 or lista_clientes[\"edad_cliente1\"] == 18:\n",
    "    print(\"paga 5€\")\n",
    "else:\n",
    "    print(\"paga 10€\")"
   ]
  }
 ],
 "metadata": {
  "kernelspec": {
   "display_name": "base",
   "language": "python",
   "name": "python3"
  },
  "language_info": {
   "codemirror_mode": {
    "name": "ipython",
    "version": 3
   },
   "file_extension": ".py",
   "mimetype": "text/x-python",
   "name": "python",
   "nbconvert_exporter": "python",
   "pygments_lexer": "ipython3",
   "version": "3.12.7"
  }
 },
 "nbformat": 4,
 "nbformat_minor": 2
}

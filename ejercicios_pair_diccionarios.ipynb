{
 "cells": [
  {
   "cell_type": "markdown",
   "metadata": {},
   "source": [
    "# Ejercicios Diccionarios\n"
   ]
  },
  {
   "cell_type": "code",
   "execution_count": 1,
   "metadata": {},
   "outputs": [],
   "source": [
    "# Crear un diccionario vacío \n",
    "# Descripción: Crea un diccionario vacío sin ningún par clave-valor.\n",
    "\n",
    "\n",
    "\n",
    "notas = {}\n"
   ]
  },
  {
   "cell_type": "code",
   "execution_count": 2,
   "metadata": {},
   "outputs": [],
   "source": [
    "# Crear un diccionario con elementos\n",
    "\n",
    "# Descripción: Crea un diccionario con pares clave-valor predefinidos. Definir el diccionario con las claves y valores que querais. NOTA El diccionario debe tener al menos 5 pares de´ clave:valor.\n",
    "\n",
    "notas = {\"Maria\" : 7,\n",
    " \"Marta\" : 8,\n",
    " \"Laura\" : 3,\n",
    " \"Carlos\" : 1, \n",
    " \"Manuel\" : 7}"
   ]
  },
  {
   "cell_type": "code",
   "execution_count": 3,
   "metadata": {},
   "outputs": [
    {
     "data": {
      "text/plain": [
       "7"
      ]
     },
     "execution_count": 3,
     "metadata": {},
     "output_type": "execute_result"
    }
   ],
   "source": [
    "# Crear un diccionario con elementos\n",
    "\n",
    "# Descripción: Crea un diccionario con pares clave-valor predefinidos. Definir el diccionario con las claves y valores que querais. NOTA El diccionario debe tener al menos 5 pares de clave:valor.\n",
    "\n",
    "notas[input(\"Indica un nombre:\")] "
   ]
  },
  {
   "cell_type": "code",
   "execution_count": 6,
   "metadata": {},
   "outputs": [
    {
     "name": "stdout",
     "output_type": "stream",
     "text": [
      "{'Maria': 7, 'Marta': 8, 'Laura': 3, 'Carlos': 1, 'Manuel': 7, 'Sonia': 6}\n"
     ]
    }
   ],
   "source": [
    "# Agregar un nuevo par clave-valor a un diccionario\n",
    "\n",
    "# Descripción: Usando el diccionario creado en el ejercicio 2, agrega un nuevo par clave-valor.\n",
    "\n",
    "alumno1 = {\"Sonia\" : 6}\n",
    "notas.update(alumno1)\n",
    "print(notas)\n",
    "\n"
   ]
  },
  {
   "cell_type": "code",
   "execution_count": 8,
   "metadata": {},
   "outputs": [
    {
     "name": "stdout",
     "output_type": "stream",
     "text": [
      "{'Maria': 7, 'Marta': 8, 'Laura': 3, 'Carlos': 1, 'Manuel': 7, 'Sonia': 6}\n",
      "{'Maria': 7, 'Marta': 8, 'Laura': 3, 'Carlos': 1, 'Manuel': 9, 'Sonia': 6}\n"
     ]
    }
   ],
   "source": [
    "#  Actualizar el valor de una clave en un diccionario\n",
    "\n",
    "# Descripción: Usando el diccionario creado en el ejercicio 2, actualiza el valor correspondiente a una clave existente.\n",
    "\n",
    "print(notas)\n",
    "notas[\"Manuel\"] = 9\n",
    "print(notas)"
   ]
  },
  {
   "cell_type": "code",
   "execution_count": 12,
   "metadata": {},
   "outputs": [
    {
     "name": "stdout",
     "output_type": "stream",
     "text": [
      "{'Maria': 7, 'Marta': 8, 'Laura': 3, 'Carlos': 1, 'Manuel': 9, 'Sonia': 6}\n",
      "{'Marta': 8, 'Laura': 3, 'Carlos': 1, 'Manuel': 9, 'Sonia': 6}\n"
     ]
    }
   ],
   "source": [
    "#Eliminar un par clave-valor de un diccionario\n",
    "\n",
    "#Descripción: Usando el diccionario creado en el ejercicio 2, elimina un par clave-valor específico que indique el usuario (debereis usar la función input() para preguntar al usuario).\n",
    "\n",
    "print(notas)\n",
    "notas.pop(input(\"Introduce un nombre\"))\n",
    "print(notas)"
   ]
  },
  {
   "cell_type": "code",
   "execution_count": 16,
   "metadata": {},
   "outputs": [
    {
     "name": "stdout",
     "output_type": "stream",
     "text": [
      "8\n"
     ]
    }
   ],
   "source": [
    "# Verificar si una clave está presente en un diccionario\n",
    "\n",
    "# Descripción: Usando el diccionario creado en el ejercicio 2, verifica si una clave específica está presente en él. La clave a buscar debe ser pasada por el usuario, debereis usar un input().\n",
    "\n",
    "print(notas.get(input(\"Introduce un nombre:\")))\n",
    "\n",
    "\n"
   ]
  },
  {
   "cell_type": "code",
   "execution_count": 17,
   "metadata": {},
   "outputs": [
    {
     "data": {
      "text/plain": [
       "dict_keys(['Marta', 'Laura', 'Carlos', 'Manuel', 'Sonia'])"
      ]
     },
     "execution_count": 17,
     "metadata": {},
     "output_type": "execute_result"
    }
   ],
   "source": [
    "#  Obtener una lista de todas las claves de un diccionario\n",
    "\n",
    "# Descripción: Usando el diccionario creado en el ejercicio 2, obtén una lista con todas las claves que contiene.\n",
    "\n",
    "notas.keys()"
   ]
  },
  {
   "cell_type": "code",
   "execution_count": 18,
   "metadata": {},
   "outputs": [
    {
     "data": {
      "text/plain": [
       "dict_values([8, 3, 1, 9, 6])"
      ]
     },
     "execution_count": 18,
     "metadata": {},
     "output_type": "execute_result"
    }
   ],
   "source": [
    "notas.values()"
   ]
  },
  {
   "cell_type": "code",
   "execution_count": 20,
   "metadata": {},
   "outputs": [
    {
     "name": "stdout",
     "output_type": "stream",
     "text": [
      "No existe\n",
      "{'Marta': 8, 'Laura': 3, 'Carlos': 1, 'Manuel': 9, 'Sonia': 6, 'Claudia': 'No existe'}\n"
     ]
    }
   ],
   "source": [
    "# Utilizar el método setdefault() para establecer un valor predeterminado si la clave no existe\n",
    "\n",
    "# Descripción: Usando el diccionario creado en el ejercicio 2, obten el valor correspondiente a una clave. Si la clave no existe, establece un valor predeterminado y devuelve dicho valor.\n",
    "\n",
    "\n",
    "print(notas.setdefault(\"Claudia\", \"No existe\"))\n",
    "print(notas)\n"
   ]
  },
  {
   "cell_type": "code",
   "execution_count": 25,
   "metadata": {},
   "outputs": [
    {
     "name": "stdout",
     "output_type": "stream",
     "text": [
      "{'Marta': 8, 'Laura': 3, 'Manuel': 9, 'Sonia': 6, 'Claudia': 'No existe'}\n",
      "{'Marta': 8, 'Laura': 3, 'Sonia': 6, 'Claudia': 'No existe'}\n"
     ]
    },
    {
     "data": {
      "text/plain": [
       "('Claudia', 'No existe')"
      ]
     },
     "execution_count": 25,
     "metadata": {},
     "output_type": "execute_result"
    }
   ],
   "source": [
    "# Manipulación de un diccionario utilizando pop() y popitem()\n",
    "\n",
    "# Descripción: Usando el diccionario creado en el ejercicio 2, realiza operaciones de eliminación utilizando pop() y popitem(), y observa cómo afectan al diccionario.\n",
    "\n",
    "print(notas)\n",
    "notas.pop(\"Manuel\")\n",
    "print(notas)\n",
    "\n",
    "\n",
    "notas.popitem()\n"
   ]
  },
  {
   "cell_type": "code",
   "execution_count": 26,
   "metadata": {},
   "outputs": [
    {
     "name": "stdout",
     "output_type": "stream",
     "text": [
      "{'Marta': 8, 'Laura': 3, 'Sonia': 6}\n"
     ]
    }
   ],
   "source": [
    "print(notas)\n"
   ]
  },
  {
   "cell_type": "markdown",
   "metadata": {},
   "source": [
    "# Ejercicics SETS\n"
   ]
  },
  {
   "cell_type": "code",
   "execution_count": 2,
   "metadata": {},
   "outputs": [],
   "source": [
    "# Crear un conjunto vacío\n",
    "\n",
    "# Descripción: Crea un conjunto vacío sin ningún elemento\n",
    "\n",
    "lista_de_la_compra ={} "
   ]
  },
  {
   "cell_type": "code",
   "execution_count": 3,
   "metadata": {},
   "outputs": [],
   "source": [
    "# Crear un conjunto con elementos\n",
    "# Descripción: Crea un conjunto con elementos predefinidos\n",
    "\n",
    "lista_de_la_compra = {\"leche\", \"pan\", \"azucar\", \"sal\", \"agua\"}"
   ]
  },
  {
   "cell_type": "code",
   "execution_count": 5,
   "metadata": {},
   "outputs": [
    {
     "name": "stdout",
     "output_type": "stream",
     "text": [
      "{'pasta', 'leche', 'agua', 'pan', 'azucar', 'sal'}\n"
     ]
    }
   ],
   "source": [
    "# Agregar elementos a un conjunto\n",
    "# Descripción: Usando el set creado en el ejercicio 2, agrega nuevos elementos. Debereis agregar por separado:\n",
    "        # Un elemento solo // Un par de elementos a la vez.\n",
    "\n",
    "\n",
    "lista_de_la_compra.add(\"pasta\")\n",
    "print(lista_de_la_compra)"
   ]
  },
  {
   "cell_type": "code",
   "execution_count": 6,
   "metadata": {},
   "outputs": [
    {
     "name": "stdout",
     "output_type": "stream",
     "text": [
      "{'pasta', 'leche', 'agua', 'pan', 'azucar', 'huevos', 'sal', 'manzanas'}\n"
     ]
    }
   ],
   "source": [
    "nuevo_item = [\"manzanas\", \"huevos\"]\n",
    "lista_de_la_compra.update(nuevo_item)\n",
    "print(lista_de_la_compra)\n"
   ]
  },
  {
   "cell_type": "code",
   "execution_count": 7,
   "metadata": {},
   "outputs": [
    {
     "name": "stdout",
     "output_type": "stream",
     "text": [
      "{'pasta', 'leche', 'agua', 'pan', 'huevos', 'sal', 'manzanas'}\n"
     ]
    }
   ],
   "source": [
    "# Eliminar un elemento de un conjunto\n",
    "# Descripción: Usando el set creado en el ejercicio 2, elimina un elemento especificado por el usuario\n",
    "\n",
    "lista_de_la_compra.remove(input(\"Introduce un ingrediente:\"))\n",
    "print(lista_de_la_compra)"
   ]
  },
  {
   "cell_type": "code",
   "execution_count": 10,
   "metadata": {},
   "outputs": [
    {
     "name": "stdout",
     "output_type": "stream",
     "text": [
      "True\n"
     ]
    }
   ],
   "source": [
    "# Verificar la pertenencia de un elemento en un conjunto\n",
    "# Descripción: Usando el set creado en el ejercicio 2, verifica si un elemento específico está presente en él.\n",
    "\n",
    "print(\"leche\" in lista_de_la_compra)"
   ]
  },
  {
   "cell_type": "code",
   "execution_count": 11,
   "metadata": {},
   "outputs": [
    {
     "name": "stdout",
     "output_type": "stream",
     "text": [
      "{'pasta', 'leche', 'peras', 'pan', 'kiwis', 'manzanas', 'agua', 'huevos', 'sal', 'acelgas'}\n"
     ]
    }
   ],
   "source": [
    "# Realizar una unión de conjuntos. Descripción: Dados dos conjuntos, realiza una unión de ellos.\n",
    "\n",
    "lista_nueva = {\"peras\", \"kiwis\", \"acelgas\"}\n",
    "lista_unificada = lista_de_la_compra.union(lista_nueva)\n",
    "print(lista_unificada)"
   ]
  },
  {
   "cell_type": "code",
   "execution_count": 15,
   "metadata": {},
   "outputs": [
    {
     "name": "stdout",
     "output_type": "stream",
     "text": [
      "{'kiwis', 'peras'}\n"
     ]
    }
   ],
   "source": [
    "# Realizar una intersección de conjuntos.  Descripción: Usando dos conjuntos de datos definidos en el ejercicio anterior, realiza una intersección de ellos.\n",
    "\n",
    "frutas1 = {\"kiwis\", \"manzanas\", \"peras\"}\n",
    "frutas2 = {\"kiwis\", \"acelgas\", \"peras\"}\n",
    "\n",
    "interseccion_frutas = frutas1.intersection(frutas2)\n",
    "print(interseccion_frutas)\n"
   ]
  },
  {
   "cell_type": "code",
   "execution_count": 13,
   "metadata": {},
   "outputs": [
    {
     "name": "stdout",
     "output_type": "stream",
     "text": [
      "{'acelgas'}\n",
      "{'manzanas'}\n"
     ]
    }
   ],
   "source": [
    "# Realizar una diferencia de conjuntos.  Descripción: Usando dos conjuntos de datos definidos en el ejercicio anterior, realiza una diferencia entre ellos.\n",
    "\n",
    "frutas1 = {\"kiwis\", \"manzanas\", \"peras\"}\n",
    "frutas2 = {\"kiwis\", \"acelgas\", \"peras\"}\n",
    "\n",
    "diferencia_frutas1 = frutas1.difference(frutas2)\n",
    "diferencia_frutas2 = frutas2.difference(frutas1)\n",
    "\n",
    "print(diferencia_frutas2)\n",
    "print(diferencia_frutas1)\n",
    "\n"
   ]
  },
  {
   "cell_type": "code",
   "execution_count": 16,
   "metadata": {},
   "outputs": [
    {
     "name": "stdout",
     "output_type": "stream",
     "text": [
      "Todos los lenguajes son lenguajes de programación? False\n"
     ]
    }
   ],
   "source": [
    "# Verificar si un conjunto es subconjunto de otro. Descripción: Dados dos conjuntos, verifica si uno es subconjunto del otro.\n",
    "\n",
    "lenguajes = {\"ingles\", \"frances\", \"python\"}\n",
    "lenguajes_programacion = {\"python\"}\n",
    "\n",
    "subset1 = lenguajes.issubset(lenguajes_programacion)\n",
    "print(\"Todos los lenguajes son lenguajes de programación?\", subset1)\n",
    "\n"
   ]
  },
  {
   "cell_type": "code",
   "execution_count": 18,
   "metadata": {},
   "outputs": [
    {
     "name": "stdout",
     "output_type": "stream",
     "text": [
      "Todos los lenguajes de programación son lenguajes? True\n"
     ]
    }
   ],
   "source": [
    "subset2 = lenguajes_programacion.issubset(lenguajes)\n",
    "print(\"Todos los lenguajes de programación son lenguajes?\", subset2)"
   ]
  },
  {
   "cell_type": "code",
   "execution_count": null,
   "metadata": {},
   "outputs": [],
   "source": []
  }
 ],
 "metadata": {
  "kernelspec": {
   "display_name": "Python 3",
   "language": "python",
   "name": "python3"
  },
  "language_info": {
   "codemirror_mode": {
    "name": "ipython",
    "version": 3
   },
   "file_extension": ".py",
   "mimetype": "text/x-python",
   "name": "python",
   "nbconvert_exporter": "python",
   "pygments_lexer": "ipython3",
   "version": "3.9.6"
  }
 },
 "nbformat": 4,
 "nbformat_minor": 2
}

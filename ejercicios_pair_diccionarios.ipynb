{
 "cells": [
  {
   "cell_type": "markdown",
   "metadata": {},
   "source": [
    "# Ejercicios Diccionarios\n"
   ]
  },
  {
   "cell_type": "code",
   "execution_count": 1,
   "metadata": {},
   "outputs": [],
   "source": [
    "# Crear un diccionario vacío \n",
    "# Descripción: Crea un diccionario vacío sin ningún par clave-valor.\n",
    "\n",
    "\n",
    "\n",
    "notas = {}\n"
   ]
  },
  {
   "cell_type": "code",
   "execution_count": 2,
   "metadata": {},
   "outputs": [],
   "source": [
    "# Crear un diccionario con elementos\n",
    "\n",
    "# Descripción: Crea un diccionario con pares clave-valor predefinidos. Definir el diccionario con las claves y valores que querais. NOTA El diccionario debe tener al menos 5 pares de´ clave:valor.\n",
    "\n",
    "notas = {\"Maria\" : 7,\n",
    " \"Marta\" : 8,\n",
    " \"Laura\" : 3,\n",
    " \"Carlos\" : 1, \n",
    " \"Manuel\" : 7}"
   ]
  },
  {
   "cell_type": "code",
   "execution_count": 3,
   "metadata": {},
   "outputs": [
    {
     "data": {
      "text/plain": [
       "7"
      ]
     },
     "execution_count": 3,
     "metadata": {},
     "output_type": "execute_result"
    }
   ],
   "source": [
    "# Crear un diccionario con elementos\n",
    "\n",
    "# Descripción: Crea un diccionario con pares clave-valor predefinidos. Definir el diccionario con las claves y valores que querais. NOTA El diccionario debe tener al menos 5 pares de clave:valor.\n",
    "\n",
    "notas[input(\"Indica un nombre:\")] "
   ]
  },
  {
   "cell_type": "code",
   "execution_count": 6,
   "metadata": {},
   "outputs": [
    {
     "name": "stdout",
     "output_type": "stream",
     "text": [
      "{'Maria': 7, 'Marta': 8, 'Laura': 3, 'Carlos': 1, 'Manuel': 7, 'Sonia': 6}\n"
     ]
    }
   ],
   "source": [
    "# Agregar un nuevo par clave-valor a un diccionario\n",
    "\n",
    "# Descripción: Usando el diccionario creado en el ejercicio 2, agrega un nuevo par clave-valor.\n",
    "\n",
    "alumno1 = {\"Sonia\" : 6}\n",
    "notas.update(alumno1)\n",
    "print(notas)\n",
    "\n"
   ]
  },
  {
   "cell_type": "code",
   "execution_count": 8,
   "metadata": {},
   "outputs": [
    {
     "name": "stdout",
     "output_type": "stream",
     "text": [
      "{'Maria': 7, 'Marta': 8, 'Laura': 3, 'Carlos': 1, 'Manuel': 7, 'Sonia': 6}\n",
      "{'Maria': 7, 'Marta': 8, 'Laura': 3, 'Carlos': 1, 'Manuel': 9, 'Sonia': 6}\n"
     ]
    }
   ],
   "source": [
    "#  Actualizar el valor de una clave en un diccionario\n",
    "\n",
    "# Descripción: Usando el diccionario creado en el ejercicio 2, actualiza el valor correspondiente a una clave existente.\n",
    "\n",
    "print(notas)\n",
    "notas[\"Manuel\"] = 9\n",
    "print(notas)"
   ]
  },
  {
   "cell_type": "code",
   "execution_count": 12,
   "metadata": {},
   "outputs": [
    {
     "name": "stdout",
     "output_type": "stream",
     "text": [
      "{'Maria': 7, 'Marta': 8, 'Laura': 3, 'Carlos': 1, 'Manuel': 9, 'Sonia': 6}\n",
      "{'Marta': 8, 'Laura': 3, 'Carlos': 1, 'Manuel': 9, 'Sonia': 6}\n"
     ]
    }
   ],
   "source": [
    "#Eliminar un par clave-valor de un diccionario\n",
    "\n",
    "#Descripción: Usando el diccionario creado en el ejercicio 2, elimina un par clave-valor específico que indique el usuario (debereis usar la función input() para preguntar al usuario).\n",
    "\n",
    "print(notas)\n",
    "notas.pop(input(\"Introduce un nombre\"))\n",
    "print(notas)"
   ]
  },
  {
   "cell_type": "code",
   "execution_count": 16,
   "metadata": {},
   "outputs": [
    {
     "name": "stdout",
     "output_type": "stream",
     "text": [
      "8\n"
     ]
    }
   ],
   "source": [
    "# Verificar si una clave está presente en un diccionario\n",
    "\n",
    "# Descripción: Usando el diccionario creado en el ejercicio 2, verifica si una clave específica está presente en él. La clave a buscar debe ser pasada por el usuario, debereis usar un input().\n",
    "\n",
    "print(notas.get(input(\"Introduce un nombre:\")))\n",
    "\n",
    "\n"
   ]
  },
  {
   "cell_type": "code",
   "execution_count": 17,
   "metadata": {},
   "outputs": [
    {
     "data": {
      "text/plain": [
       "dict_keys(['Marta', 'Laura', 'Carlos', 'Manuel', 'Sonia'])"
      ]
     },
     "execution_count": 17,
     "metadata": {},
     "output_type": "execute_result"
    }
   ],
   "source": [
    "#  Obtener una lista de todas las claves de un diccionario\n",
    "\n",
    "# Descripción: Usando el diccionario creado en el ejercicio 2, obtén una lista con todas las claves que contiene.\n",
    "\n",
    "notas.keys()"
   ]
  },
  {
   "cell_type": "code",
   "execution_count": 18,
   "metadata": {},
   "outputs": [
    {
     "data": {
      "text/plain": [
       "dict_values([8, 3, 1, 9, 6])"
      ]
     },
     "execution_count": 18,
     "metadata": {},
     "output_type": "execute_result"
    }
   ],
   "source": [
    "notas.values()"
   ]
  },
  {
   "cell_type": "code",
   "execution_count": 20,
   "metadata": {},
   "outputs": [
    {
     "name": "stdout",
     "output_type": "stream",
     "text": [
      "No existe\n",
      "{'Marta': 8, 'Laura': 3, 'Carlos': 1, 'Manuel': 9, 'Sonia': 6, 'Claudia': 'No existe'}\n"
     ]
    }
   ],
   "source": [
    "# Utilizar el método setdefault() para establecer un valor predeterminado si la clave no existe\n",
    "\n",
    "# Descripción: Usando el diccionario creado en el ejercicio 2, obten el valor correspondiente a una clave. Si la clave no existe, establece un valor predeterminado y devuelve dicho valor.\n",
    "\n",
    "\n",
    "print(notas.setdefault(\"Claudia\", \"No existe\"))\n",
    "print(notas)\n"
   ]
  },
  {
   "cell_type": "code",
   "execution_count": 25,
   "metadata": {},
   "outputs": [
    {
     "name": "stdout",
     "output_type": "stream",
     "text": [
      "{'Marta': 8, 'Laura': 3, 'Manuel': 9, 'Sonia': 6, 'Claudia': 'No existe'}\n",
      "{'Marta': 8, 'Laura': 3, 'Sonia': 6, 'Claudia': 'No existe'}\n"
     ]
    },
    {
     "data": {
      "text/plain": [
       "('Claudia', 'No existe')"
      ]
     },
     "execution_count": 25,
     "metadata": {},
     "output_type": "execute_result"
    }
   ],
   "source": [
    "# Manipulación de un diccionario utilizando pop() y popitem()\n",
    "\n",
    "# Descripción: Usando el diccionario creado en el ejercicio 2, realiza operaciones de eliminación utilizando pop() y popitem(), y observa cómo afectan al diccionario.\n",
    "\n",
    "print(notas)\n",
    "notas.pop(\"Manuel\")\n",
    "print(notas)\n",
    "\n",
    "\n",
    "notas.popitem()\n"
   ]
  },
  {
   "cell_type": "code",
   "execution_count": 26,
   "metadata": {},
   "outputs": [
    {
     "name": "stdout",
     "output_type": "stream",
     "text": [
      "{'Marta': 8, 'Laura': 3, 'Sonia': 6}\n"
     ]
    }
   ],
   "source": [
    "print(notas)\n"
   ]
  },
  {
   "cell_type": "code",
   "execution_count": null,
   "metadata": {},
   "outputs": [],
   "source": []
  },
  {
   "cell_type": "code",
   "execution_count": null,
   "metadata": {},
   "outputs": [],
   "source": []
  },
  {
   "cell_type": "code",
   "execution_count": null,
   "metadata": {},
   "outputs": [],
   "source": []
  }
 ],
 "metadata": {
  "kernelspec": {
   "display_name": "Python 3",
   "language": "python",
   "name": "python3"
  },
  "language_info": {
   "codemirror_mode": {
    "name": "ipython",
    "version": 3
   },
   "file_extension": ".py",
   "mimetype": "text/x-python",
   "name": "python",
   "nbconvert_exporter": "python",
   "pygments_lexer": "ipython3",
   "version": "3.9.6"
  }
 },
 "nbformat": 4,
 "nbformat_minor": 2
}

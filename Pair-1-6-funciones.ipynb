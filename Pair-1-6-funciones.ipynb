{
 "cells": [
  {
   "cell_type": "markdown",
   "metadata": {},
   "source": [
    "# Pair funciones"
   ]
  },
  {
   "cell_type": "markdown",
   "metadata": {},
   "source": [
    "1- Calcular el área de un círculo.\n",
    "\n",
    "Descripción: Crea una función llamada calcular_area_circulo que tome el radio como parámetro y devuelva el área del círculo."
   ]
  },
  {
   "cell_type": "code",
   "execution_count": 3,
   "metadata": {},
   "outputs": [
    {
     "name": "stdout",
     "output_type": "stream",
     "text": [
      "Este es es área del círculo 50.26548245743669\n"
     ]
    },
    {
     "data": {
      "text/plain": [
       "50.26548245743669"
      ]
     },
     "execution_count": 3,
     "metadata": {},
     "output_type": "execute_result"
    }
   ],
   "source": [
    "import math\n",
    "\n",
    "def calcular_area_circulo(radio):\n",
    "        area_circulo = math.pi * radio ** 2\n",
    "        print(\"Este es es área del círculo\", area_circulo)\n",
    "        return area_circulo\n",
    "\n",
    "calcular_area_circulo(4)"
   ]
  },
  {
   "cell_type": "markdown",
   "metadata": {},
   "source": [
    "2- Contar la cantidad de caracteres en una cadena.\n",
    "\n",
    "Descripción: Crea una función llamada contar_caracteres que tome una cadena como parámetro y devuelva la cantidad de caracteres que contiene."
   ]
  },
  {
   "cell_type": "code",
   "execution_count": 6,
   "metadata": {},
   "outputs": [
    {
     "name": "stdout",
     "output_type": "stream",
     "text": [
      "20\n"
     ]
    }
   ],
   "source": [
    "def contar_caracteres(cadena):\n",
    "    contador_letras = len(cadena)\n",
    "    return contador_letras\n",
    "\n",
    "texto = contar_caracteres(\"Hola, qué tal estás?\")\n",
    "\n",
    "print(texto)"
   ]
  },
  {
   "cell_type": "markdown",
   "metadata": {},
   "source": [
    "\n",
    "3- Determinar si una cadena es un palíndromo.\n",
    "\n",
    "Descripción: Crea una función llamada es_palindromo que tome una cadena como parámetro y devuelva True si es un palíndromo, o False si no lo es."
   ]
  },
  {
   "cell_type": "code",
   "execution_count": 1,
   "metadata": {},
   "outputs": [
    {
     "name": "stdout",
     "output_type": "stream",
     "text": [
      "dabalearrozalazorraelabad\n",
      "El texto dabale arroz a la zorra el abad es un palíndromo\n",
      "holacaracola\n",
      "El texto hola caracola no es un palíndromo\n"
     ]
    },
    {
     "data": {
      "text/plain": [
       "False"
      ]
     },
     "execution_count": 1,
     "metadata": {},
     "output_type": "execute_result"
    }
   ],
   "source": [
    "def es_palindromo(texto_pal):\n",
    "    for caracteres in texto_pal:\n",
    "        texto_pal_sinespacios = texto_pal.replace(\" \", \"\")\n",
    "        print(texto_pal_sinespacios)\n",
    "        if texto_pal_sinespacios == texto_pal_sinespacios[::-1]:\n",
    "            print(f\"El texto {texto_pal} es un palíndromo\")\n",
    "            return True\n",
    "        else:\n",
    "            print(f\"El texto {texto_pal} no es un palíndromo\")\n",
    "            return False\n",
    "\n",
    "\n",
    "\n",
    "\n",
    "palindromo = \"dabale arroz a la zorra el abad\"\n",
    "es_palindromo(palindromo)\n",
    "\n",
    "no_palindromo =\"hola caracola\"\n",
    "es_palindromo(no_palindromo)"
   ]
  },
  {
   "cell_type": "markdown",
   "metadata": {},
   "source": [
    "4. Calcular el promedio de una lista de números.\n",
    "\n",
    "Descripción: Crea una función llamada calcular_promedio que tome una lista de números como parámetro y devuelva el promedio de todos sus elementos."
   ]
  },
  {
   "cell_type": "code",
   "execution_count": 31,
   "metadata": {},
   "outputs": [
    {
     "name": "stdout",
     "output_type": "stream",
     "text": [
      "3.0\n"
     ]
    }
   ],
   "source": [
    "def calcular_promedio(lista_promedio):\n",
    "        promedio = sum(lista_promedio)/len(lista_promedio)\n",
    "        return promedio\n",
    "    \n",
    "datos = [1, 2, 3, 4, 5]\n",
    "\n",
    "promedio = calcular_promedio(datos)\n",
    "print(promedio)"
   ]
  },
  {
   "cell_type": "markdown",
   "metadata": {},
   "source": [
    "\n",
    "8. Concatenar múltiples cadenas de texto\n",
    "\n",
    "Descripción: Crea una función llamada concatenar_cadenas que tome una cantidad variable de cadenas de texto como argumentos y devuelva una única cadena que contenga la concatenación de todas las cadenas ingresadas."
   ]
  },
  {
   "cell_type": "code",
   "execution_count": 33,
   "metadata": {},
   "outputs": [
    {
     "name": "stdout",
     "output_type": "stream",
     "text": [
      "dabale arroz a la zorra el abad hola caracola Hola hola\n"
     ]
    }
   ],
   "source": [
    "def concatenar_cadenas(text1, text2, text3 = \"Hola hola\"):\n",
    "    todas_cadenas = text1 + \" \" + text2 + \" \" + text3\n",
    "    return todas_cadenas\n",
    "\n",
    "resultado = concatenar_cadenas(palindromo, no_palindromo)\n",
    "\n",
    "print(resultado)"
   ]
  },
  {
   "cell_type": "markdown",
   "metadata": {},
   "source": [
    "9. Crear un diccionario con información de una persona.\n",
    "\n",
    "Descripción: Crea una función llamada crear_persona que tome como argumentos clave-valor los datos de una persona, como nombre, edad, ciudad, etc., y devuelva un diccionario con toda la información ingresada."
   ]
  },
  {
   "cell_type": "code",
   "execution_count": 2,
   "metadata": {},
   "outputs": [
    {
     "name": "stdout",
     "output_type": "stream",
     "text": [
      "{}\n"
     ]
    }
   ],
   "source": [
    "def crear_persona(nombre, edad, ciudad):\n",
    "    diccionario = {}\n",
    "    for k, v in diccionario.items():\n",
    "        k == nombre\n",
    "        v == [edad, ciudad]\n",
    "        diccionario.append(k,v)\n",
    "    return diccionario\n",
    "\n",
    "nom = \"Ana\"\n",
    "ed = 23\n",
    "city = \"Almeria\"\n",
    "\n",
    "diccionario1 = crear_persona(nom, ed, city)\n",
    "print(diccionario1)\n"
   ]
  },
  {
   "cell_type": "code",
   "execution_count": 24,
   "metadata": {},
   "outputs": [
    {
     "name": "stdout",
     "output_type": "stream",
     "text": [
      "{'nombre': 'Ana', 'edad': 33, 'ciudad': 'Barcelona'}\n"
     ]
    }
   ],
   "source": [
    "def crear_persona1(n, e, c):\n",
    "        dic2 = {\"nombre\" : n,\n",
    "            \"edad\" : e,\n",
    "            \"ciudad\" : c}\n",
    "    \n",
    "        return dic2\n",
    "\n",
    "\n",
    "nombre = \"Ana\"\n",
    "edad = 33\n",
    "ciudad = \"Barcelona\"\n",
    "\n",
    "a = crear_persona1(nombre, edad, ciudad)\n",
    "\n",
    "print(a)\n",
    "\n",
    "\n",
    "\n",
    "    \n",
    "\n",
    "\n",
    "\n"
   ]
  },
  {
   "cell_type": "markdown",
   "metadata": {},
   "source": [
    "\n",
    "Encontrar el número que falta en una lista ordenada de números consecutivos.\n",
    "\n",
    "Descripción: Crea una función llamada encontrar_numero_faltante que tome una lista de números consecutivos (del 1 al N, sin repetir) con un número faltante y devuelva ese número faltante."
   ]
  },
  {
   "cell_type": "code",
   "execution_count": 29,
   "metadata": {},
   "outputs": [
    {
     "data": {
      "text/plain": [
       "9"
      ]
     },
     "execution_count": 29,
     "metadata": {},
     "output_type": "execute_result"
    }
   ],
   "source": [
    "lista_falta = [1, 2, 3, 4, 5, 6, 7,8,10]\n",
    "\n",
    "def encontrar_numero_faltante(lista):\n",
    "    for x in range(1,11):\n",
    "        if x not in lista:\n",
    "                return x\n",
    "\n",
    "encontrar_numero_faltante(lista_falta)"
   ]
  }
 ],
 "metadata": {
  "kernelspec": {
   "display_name": "base",
   "language": "python",
   "name": "python3"
  },
  "language_info": {
   "codemirror_mode": {
    "name": "ipython",
    "version": 3
   },
   "file_extension": ".py",
   "mimetype": "text/x-python",
   "name": "python",
   "nbconvert_exporter": "python",
   "pygments_lexer": "ipython3",
   "version": "3.12.7"
  }
 },
 "nbformat": 4,
 "nbformat_minor": 2
}

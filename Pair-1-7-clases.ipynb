{
 "cells": [
  {
   "cell_type": "markdown",
   "metadata": {},
   "source": [
    "# Ejercicios Clases"
   ]
  },
  {
   "cell_type": "markdown",
   "metadata": {},
   "source": [
    "La clase Empleados permite gestionar información relacionada con los empleados de una empresa, con las siguientes características:\n",
    "\n",
    "Debes crear una clase llamada \"Empleados\" que tenga los siguientes atributos: nombre, apellidos, edad, posicion, año , vacaciones(cantidad de días de vacaciones que le quedan al empleado) y herramientas.\n",
    "\n",
    "El constructor __init__ debe recibir estos atributos como parámetros y asignarlos a los respectivos atributos de la clase.\n",
    "\n",
    "Los atributos representan la información personal y profesional de un empleado, como su nombre completo, edad, posición en la empresa, año de ingreso, días de vacaciones disponibles y una lista de herramientas que el empleado sabe utilizar."
   ]
  },
  {
   "cell_type": "code",
   "execution_count": 1,
   "metadata": {},
   "outputs": [],
   "source": [
    "class Empleados:\n",
    "    pass\n"
   ]
  },
  {
   "cell_type": "code",
   "execution_count": 44,
   "metadata": {},
   "outputs": [],
   "source": [
    "class Empleados:\n",
    "    def __init__(self, nombre, apellidos, edad, posicion, año, herramientas, vacaciones = 23):\n",
    "        self.nombre = nombre\n",
    "        self.apellidos = apellidos\n",
    "        self.edad = edad\n",
    "        self.posicion = posicion\n",
    "        self.año = año\n",
    "        self.vacaciones = vacaciones\n",
    "        self.herramientas = herramientas\n",
    "\n",
    "    def descripcion(self):\n",
    "        return f\"Descripcion del empleado: A {self.nombre}, que tiene la posición {self.posicion} desde el año {self.año}, le quedan {self.vacaciones} días de vacaciones.\"\n",
    "\n",
    "    def cambiando_posicion(self):\n",
    "        \n",
    "        for h in self.herramientas:\n",
    "            \n",
    "            if h == \"Python\":\n",
    "                print(f\"¡Enhorabuena!\")\n",
    "            else:\n",
    "                print(f\"Deja de usar {h}. Deberías aprender Python\")\n",
    "\n",
    "    def calcular_antiguedad(self):\n",
    "        import datetime as dt\n",
    "        fecha = dt.datetime(2025, 2,11)\n",
    "        print(f\"trabaja en la empresa desde hace {fecha-self.año}\")\n",
    "\n",
    "\n",
    "\n",
    "\n"
   ]
  },
  {
   "cell_type": "code",
   "execution_count": 45,
   "metadata": {},
   "outputs": [],
   "source": [
    "empleada1 = Empleados(\"María\", \"Gonzalez Perez\", 40, \"Gerente\", 2021, [\"Excel\", \"Office\", \"Teams\", \"GitHUB\"])"
   ]
  },
  {
   "cell_type": "code",
   "execution_count": 46,
   "metadata": {},
   "outputs": [
    {
     "ename": "TypeError",
     "evalue": "unsupported operand type(s) for -: 'datetime.datetime' and 'int'",
     "output_type": "error",
     "traceback": [
      "\u001b[0;31m---------------------------------------------------------------------------\u001b[0m",
      "\u001b[0;31mTypeError\u001b[0m                                 Traceback (most recent call last)",
      "Cell \u001b[0;32mIn[46], line 1\u001b[0m\n\u001b[0;32m----> 1\u001b[0m \u001b[43mempleada1\u001b[49m\u001b[38;5;241;43m.\u001b[39;49m\u001b[43mcalcular_antiguedad\u001b[49m\u001b[43m(\u001b[49m\u001b[43m)\u001b[49m\n",
      "Cell \u001b[0;32mIn[44], line 26\u001b[0m, in \u001b[0;36mEmpleados.calcular_antiguedad\u001b[0;34m(self)\u001b[0m\n\u001b[1;32m     24\u001b[0m \u001b[38;5;28;01mimport\u001b[39;00m\u001b[38;5;250m \u001b[39m\u001b[38;5;21;01mdatetime\u001b[39;00m\u001b[38;5;250m \u001b[39m\u001b[38;5;28;01mas\u001b[39;00m\u001b[38;5;250m \u001b[39m\u001b[38;5;21;01mdt\u001b[39;00m\n\u001b[1;32m     25\u001b[0m fecha \u001b[38;5;241m=\u001b[39m dt\u001b[38;5;241m.\u001b[39mdatetime(\u001b[38;5;241m2025\u001b[39m, \u001b[38;5;241m2\u001b[39m,\u001b[38;5;241m11\u001b[39m)\n\u001b[0;32m---> 26\u001b[0m \u001b[38;5;28mprint\u001b[39m(\u001b[38;5;124mf\u001b[39m\u001b[38;5;124m\"\u001b[39m\u001b[38;5;124mtrabaja en la empresa desde hace \u001b[39m\u001b[38;5;132;01m{\u001b[39;00mfecha\u001b[38;5;241m-\u001b[39m\u001b[38;5;28mself\u001b[39m\u001b[38;5;241m.\u001b[39maño\u001b[38;5;132;01m}\u001b[39;00m\u001b[38;5;124m\"\u001b[39m)\n",
      "\u001b[0;31mTypeError\u001b[0m: unsupported operand type(s) for -: 'datetime.datetime' and 'int'"
     ]
    }
   ],
   "source": [
    "empleada1.calcular_antiguedad()"
   ]
  },
  {
   "cell_type": "code",
   "execution_count": 25,
   "metadata": {},
   "outputs": [
    {
     "name": "stdout",
     "output_type": "stream",
     "text": [
      "Deja de usar Excel. Deberías aprender Python\n",
      "Deja de usar Office. Deberías aprender Python\n",
      "Deja de usar Teams. Deberías aprender Python\n",
      "Deja de usar GitHUB. Deberías aprender Python\n"
     ]
    }
   ],
   "source": [
    "empleada1.cambiando_posicion()\n"
   ]
  },
  {
   "cell_type": "code",
   "execution_count": 11,
   "metadata": {},
   "outputs": [
    {
     "data": {
      "text/plain": [
       "{'nombre': 'María',\n",
       " 'apellidos': 'Gonzalez Perez',\n",
       " 'edad': 40,\n",
       " 'posicion': 'Gerente',\n",
       " 'año': 2021,\n",
       " 'vacaciones': 23,\n",
       " 'herraminetas': ['Excel', 'Python']}"
      ]
     },
     "execution_count": 11,
     "metadata": {},
     "output_type": "execute_result"
    }
   ],
   "source": [
    "empleada1.__dict__"
   ]
  },
  {
   "cell_type": "code",
   "execution_count": 9,
   "metadata": {},
   "outputs": [
    {
     "name": "stdout",
     "output_type": "stream",
     "text": [
      "Descripcion del empleado: A María, que tiene la posición Gerente desde el año 2021, le quedan 23 días de vacaciones.\n"
     ]
    }
   ],
   "source": [
    "print(empleada1.descripcion())"
   ]
  },
  {
   "cell_type": "code",
   "execution_count": null,
   "metadata": {},
   "outputs": [],
   "source": []
  },
  {
   "cell_type": "code",
   "execution_count": null,
   "metadata": {},
   "outputs": [],
   "source": []
  },
  {
   "cell_type": "code",
   "execution_count": null,
   "metadata": {},
   "outputs": [],
   "source": []
  },
  {
   "cell_type": "code",
   "execution_count": null,
   "metadata": {},
   "outputs": [],
   "source": []
  },
  {
   "cell_type": "code",
   "execution_count": null,
   "metadata": {},
   "outputs": [],
   "source": []
  }
 ],
 "metadata": {
  "kernelspec": {
   "display_name": "Python 3",
   "language": "python",
   "name": "python3"
  },
  "language_info": {
   "codemirror_mode": {
    "name": "ipython",
    "version": 3
   },
   "file_extension": ".py",
   "mimetype": "text/x-python",
   "name": "python",
   "nbconvert_exporter": "python",
   "pygments_lexer": "ipython3",
   "version": "3.9.6"
  }
 },
 "nbformat": 4,
 "nbformat_minor": 2
}
